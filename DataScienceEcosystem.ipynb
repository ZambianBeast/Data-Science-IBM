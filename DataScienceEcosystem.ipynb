{
 "cells": [
  {
   "cell_type": "markdown",
   "id": "620c2c21-5081-4bff-88fe-da52a0a117d7",
   "metadata": {},
   "source": [
    "Data Science Tools and Ecosystem"
   ]
  },
  {
   "cell_type": "markdown",
   "id": "08e5b946-2807-468a-add3-ef75d0e420a4",
   "metadata": {},
   "source": [
    "In this notebook, Data Science Tools and Ecosystem are summarized."
   ]
  },
  {
   "cell_type": "markdown",
   "id": "9ff9122c-887b-4e5c-8bb5-77372da6213a",
   "metadata": {},
   "source": [
    "Objectives:\n",
    "-  List of popular languages for Data Science\n",
    "-  List of popular libraries used in Data Science\n",
    "-  List of Data Science Tools\n"
   ]
  },
  {
   "cell_type": "markdown",
   "id": "9a3db7d4-1ba6-4e0a-8954-0495c70a9339",
   "metadata": {},
   "source": [
    "Some of the popular languages that Data Scientists use are:\n",
    "1. Python\n",
    "2. R\n",
    "3. Java"
   ]
  },
  {
   "cell_type": "markdown",
   "id": "e48296cc-913d-432b-8323-a6d320b9adff",
   "metadata": {},
   "source": [
    "Some of the commonly used libraries used by Data Scientists include:\n",
    "1. NumPy\n",
    "2. Matplotlib\n",
    "3. Pandas"
   ]
  },
  {
   "cell_type": "markdown",
   "id": "bea7ad38-2f1f-40d0-80f3-39f26c8c9237",
   "metadata": {},
   "source": [
    "|Data Science Tools|\n",
    "|----|\n",
    "|VS Code|\n",
    "|Jupyter Notebook|\n",
    "|PyCharm|"
   ]
  },
  {
   "cell_type": "markdown",
   "id": "8c408103-a64d-4398-9f54-6afdba5b5a85",
   "metadata": {},
   "source": [
    "Below are a few examples of evaluating arithmetic expressions in Python.\n",
    "1. +\n",
    "2. -\n",
    "3. \\\n",
    "4. *\n",
    "5. %"
   ]
  },
  {
   "cell_type": "code",
   "execution_count": 1,
   "id": "f9355bb0-afba-45c5-ad09-d729f8680cba",
   "metadata": {},
   "outputs": [
    {
     "data": {
      "text/plain": [
       "17"
      ]
     },
     "execution_count": 1,
     "metadata": {},
     "output_type": "execute_result"
    }
   ],
   "source": [
    "#This a simple arithmetic expression to multiply then add integers.\n",
    "(3*4)+5"
   ]
  },
  {
   "cell_type": "code",
   "execution_count": 5,
   "id": "b9062850-a640-4b78-9370-9f7727d03d1b",
   "metadata": {},
   "outputs": [
    {
     "data": {
      "text/plain": [
       "3.3333333333333335"
      ]
     },
     "execution_count": 5,
     "metadata": {},
     "output_type": "execute_result"
    }
   ],
   "source": [
    "#This will convert 200 minutes to hours by dividing by 60\n",
    "200/60"
   ]
  },
  {
   "cell_type": "markdown",
   "id": "e1a7ba5a-4ae5-42da-ad9f-643e320fcc2e",
   "metadata": {},
   "source": [
    "## Author\n",
    "Naanda Muyawa.H"
   ]
  },
  {
   "cell_type": "code",
   "execution_count": null,
   "id": "2c65959e-7cb3-4189-8633-ab4695924908",
   "metadata": {},
   "outputs": [],
   "source": []
  }
 ],
 "metadata": {
  "kernelspec": {
   "display_name": "Python 3 (ipykernel)",
   "language": "python",
   "name": "python3"
  },
  "language_info": {
   "codemirror_mode": {
    "name": "ipython",
    "version": 3
   },
   "file_extension": ".py",
   "mimetype": "text/x-python",
   "name": "python",
   "nbconvert_exporter": "python",
   "pygments_lexer": "ipython3",
   "version": "3.12.4"
  }
 },
 "nbformat": 4,
 "nbformat_minor": 5
}
